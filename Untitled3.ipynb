{
  "nbformat": 4,
  "nbformat_minor": 0,
  "metadata": {
    "colab": {
      "provenance": []
    },
    "kernelspec": {
      "name": "python3",
      "display_name": "Python 3"
    },
    "language_info": {
      "name": "python"
    }
  },
  "cells": [
    {
      "cell_type": "code",
      "source": [
        "# 上传并读取文件\n",
        "import pandas as pd\n",
        "from sklearn.linear_model import LinearRegression\n",
        "from sklearn.model_selection import train_test_split\n",
        "from sklearn.metrics import mean_squared_error\n",
        "\n",
        "file_path = 'annual-enterprise-survey-2023-financial-year-provisional.csv'\n",
        "data = pd.read_csv(file_path)\n",
        "\n",
        "# 数据清理\n",
        "data['Value'] = pd.to_numeric(data['Value'], errors='coerce')\n",
        "data = data.dropna(subset=['Value'])\n",
        "\n",
        "# 定义特征和目标变量\n",
        "X = data[['Year']].values\n",
        "y = data['Value'].values\n",
        "\n",
        "# 分割数据集并训练模型\n",
        "X_train, X_test, y_train, y_test = train_test_split(X, y, test_size=0.2, random_state=42)\n",
        "model = LinearRegression().fit(X_train, y_train)\n",
        "\n",
        "# 预测与评估\n",
        "y_pred = model.predict(X_test)\n",
        "print(\"Coefficient:\", model.coef_[0])\n",
        "print(\"Intercept:\", model.intercept_)\n",
        "print(\"MSE:\", mean_squared_error(y_test, y_pred))\n"
      ],
      "metadata": {
        "colab": {
          "base_uri": "https://localhost:8080/"
        },
        "id": "IlwmY_0kNoP8",
        "outputId": "9f010987-86a4-4aa6-eb7d-ce314da1bbff"
      },
      "execution_count": 10,
      "outputs": [
        {
          "output_type": "stream",
          "name": "stdout",
          "text": [
            "Coefficient: 4671.934658583215\n",
            "Intercept: -9414295.039463181\n",
            "MSE: 26726673177.02076\n"
          ]
        }
      ]
    }
  ]
}