{
  "nbformat": 4,
  "nbformat_minor": 0,
  "metadata": {
    "colab": {
      "provenance": []
    },
    "kernelspec": {
      "name": "python3",
      "display_name": "Python 3"
    },
    "language_info": {
      "name": "python"
    }
  },
  "cells": [
    {
      "cell_type": "code",
      "execution_count": 1,
      "metadata": {
        "colab": {
          "base_uri": "https://localhost:8080/"
        },
        "id": "SmuIDXhg5J7j",
        "outputId": "02af94fa-a7ef-4645-ac57-2669d394c0a9"
      },
      "outputs": [
        {
          "output_type": "stream",
          "name": "stdout",
          "text": [
            "                            OLS Regression Results                            \n",
            "==============================================================================\n",
            "Dep. Variable:                      D   R-squared:                       0.005\n",
            "Model:                            OLS   Adj. R-squared:                 -0.016\n",
            "Method:                 Least Squares   F-statistic:                    0.2372\n",
            "Date:                Thu, 07 Nov 2024   Prob (F-statistic):              0.789\n",
            "Time:                        09:20:53   Log-Likelihood:                -137.74\n",
            "No. Observations:                 100   AIC:                             281.5\n",
            "Df Residuals:                      97   BIC:                             289.3\n",
            "Df Model:                           2                                         \n",
            "Covariance Type:            nonrobust                                         \n",
            "==============================================================================\n",
            "                 coef    std err          t      P>|t|      [0.025      0.975]\n",
            "------------------------------------------------------------------------------\n",
            "const         -0.0581      0.101     -0.577      0.565      -0.258       0.142\n",
            "B              0.0299      0.094      0.317      0.752      -0.157       0.217\n",
            "C              0.0759      0.115      0.661      0.510      -0.152       0.304\n",
            "==============================================================================\n",
            "Omnibus:                        2.930   Durbin-Watson:                   2.193\n",
            "Prob(Omnibus):                  0.231   Jarque-Bera (JB):                2.834\n",
            "Skew:                           0.406   Prob(JB):                        0.242\n",
            "Kurtosis:                       2.861   Cond. No.                         1.47\n",
            "==============================================================================\n",
            "\n",
            "Notes:\n",
            "[1] Standard Errors assume that the covariance matrix of the errors is correctly specified.\n"
          ]
        }
      ],
      "source": [
        "import pandas as pd\n",
        "import statsmodels.api as sm\n",
        "import numpy as np\n",
        "\n",
        "# 創建隨機數據框\n",
        "df2 = pd.DataFrame(np.random.randn(100, 4), columns=list(\"ABCD\"))\n",
        "\n",
        "# 定義多個自變量 (例如，A 和 B)\n",
        "X = df2.iloc[:, 1:3]  # 選擇 B 和 C 作為自變量\n",
        "y = df2['D']  # 依變量 D\n",
        "\n",
        "# 增加常數項\n",
        "X = sm.add_constant(X)\n",
        "\n",
        "# 擬合多元回歸模型\n",
        "model = sm.OLS(y, X).fit()\n",
        "\n",
        "# 顯示回歸結果\n",
        "print(model.summary())"
      ]
    },
    {
      "cell_type": "code",
      "source": [],
      "metadata": {
        "id": "N5M9a-D07IOr"
      },
      "execution_count": null,
      "outputs": []
    }
  ]
}